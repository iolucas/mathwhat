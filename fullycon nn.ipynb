{
 "cells": [
  {
   "cell_type": "code",
   "execution_count": 1,
   "metadata": {
    "collapsed": true
   },
   "outputs": [],
   "source": [
    "import math\n",
    "import tensorflow as tf\n",
    "import numpy as np\n",
    "from PIL import Image\n",
    "import matplotlib.pyplot as plt\n",
    "%matplotlib inline\n",
    "import os\n",
    "from collections import Counter\n",
    "\n",
    "from sklearn.model_selection import train_test_split\n",
    "\n",
    "from data_manager import load_dataset"
   ]
  },
  {
   "cell_type": "code",
   "execution_count": 2,
   "metadata": {},
   "outputs": [],
   "source": [
    "def load_dataset2(n_batches=10):\n",
    "    imgs = []\n",
    "    labels = []\n",
    "    int2sym = np.load(\"data/int2sym.npy\")\n",
    "    for batch_i in range(n_batches):\n",
    "        img_batch = np.load(\"data/imgs_batch_{}.npy\".format(batch_i))\n",
    "        labels_batch = np.load(\"data/labels_batch_{}.npy\".format(batch_i))\n",
    "        imgs.append(img_batch)\n",
    "        labels.append(labels_batch)\n",
    "        \n",
    "    return np.concatenate(imgs), np.concatenate(labels), int2sym"
   ]
  },
  {
   "cell_type": "code",
   "execution_count": 3,
   "metadata": {},
   "outputs": [],
   "source": [
    "imgs, labels, int2sym = load_dataset(10)"
   ]
  },
  {
   "cell_type": "code",
   "execution_count": 4,
   "metadata": {},
   "outputs": [
    {
     "name": "stdout",
     "output_type": "stream",
     "text": [
      "theta\n"
     ]
    },
    {
     "data": {
      "image/png": "[encoded data removed]",
      "text/plain": [
       "<matplotlib.figure.Figure at 0xc1b69b0>"
      ]
     },
     "metadata": {},
     "output_type": "display_data"
    }
   ],
   "source": [
    "test_ind = 70000\n",
    "plt.imshow(imgs[test_ind])\n",
    "print(int2sym[labels[test_ind]])"
   ]
  },
  {
   "cell_type": "code",
   "execution_count": 5,
   "metadata": {
    "collapsed": true
   },
   "outputs": [],
   "source": [
    "tf.reset_default_graph()\n",
    "\n",
    "n_symbols = 82\n",
    "\n",
    "inputs = tf.placeholder(tf.float32, shape=[None, 45,45])\n",
    "inputs_flatten = tf.reshape(inputs, shape=[-1,45*45])\n",
    "targets = tf.placeholder(tf.int32, shape=[None])\n",
    "\n",
    "targets_onehot = tf.one_hot(targets, n_symbols)\n",
    "\n",
    "#h1 = tf.layers.dense(inputs_flatten, 3000, activation=tf.nn.relu)\n",
    "h2 = tf.layers.dense(inputs_flatten, 1000, activation=tf.nn.relu)\n",
    "h3 = tf.layers.dense(h2, 500, activation=tf.nn.relu)\n",
    "logits = tf.layers.dense(h3, n_symbols)\n",
    "output = tf.nn.softmax(logits)\n",
    "\n",
    "sc = tf.nn.softmax_cross_entropy_with_logits(labels=targets_onehot, logits=logits)\n",
    "\n",
    "cost = tf.reduce_mean(sc)\n",
    "\n",
    "optimizer = tf.train.AdamOptimizer(0.01).minimize(cost)\n",
    "\n",
    "# Accuracy\n",
    "correct_pred = tf.equal(tf.argmax(logits, 1), tf.argmax(targets_onehot, 1))\n",
    "accuracy = tf.reduce_mean(tf.cast(correct_pred, tf.float32), name='accuracy')"
   ]
  },
  {
   "cell_type": "code",
   "execution_count": 7,
   "metadata": {
    "collapsed": true
   },
   "outputs": [],
   "source": [
    "X_train, X_test, y_train, y_test = train_test_split(imgs, labels, train_size=0.6)\n",
    "X_valid, X_test, y_valid, y_test = train_test_split(X_test, y_test, train_size=0.5)"
   ]
  },
  {
   "cell_type": "code",
   "execution_count": 8,
   "metadata": {},
   "outputs": [],
   "source": [
    "def get_batches(X,Y, batch_size):\n",
    "    assert len(X) == len(Y)\n",
    "    for i in range(0,len(X),batch_size):\n",
    "        yield X[i:i+batch_size], Y[i:i+batch_size]\n",
    "        \n",
    "#list(get_batches(list(range(10)),list(range(10)),3))"
   ]
  },
  {
   "cell_type": "code",
   "execution_count": 11,
   "metadata": {},
   "outputs": [
    {
     "data": {
      "text/plain": [
       "(75195, 45, 45)"
      ]
     },
     "execution_count": 11,
     "metadata": {},
     "output_type": "execute_result"
    }
   ],
   "source": [
    "X_valid.shape"
   ]
  },
  {
   "cell_type": "code",
   "execution_count": 13,
   "metadata": {},
   "outputs": [
    {
     "name": "stdout",
     "output_type": "stream",
     "text": [
      "0 0.119647 [0.89310461]\n",
      "1 0.0701757 [0.91456878]\n",
      "2 0.335572 [0.91427624]\n",
      "3 0.0283341 [0.92923731]\n",
      "4 0.105066 [0.93185717]\n",
      "5 0.00954354 [0.93512869]\n",
      "6 0.00107931 [0.93907839]\n",
      "7 0.274487 [0.94329411]\n",
      "8 0.131784 [0.94015557]\n",
      "9 0.0345881 [0.94728374]\n",
      "10 0.188106 [0.94524902]\n",
      "11 0.0034226 [0.94983709]\n",
      "12 0.000624104 [0.95350754]\n",
      "13 0.0346056 [0.95227075]\n",
      "14 0.403118 [0.95106059]\n",
      "15 3.99846e-07 [0.95465124]\n",
      "16 0.0798659 [0.95502359]\n",
      "17 2.23749 [0.95837492]\n",
      "18 4.58929e-06 [0.95657957]\n",
      "19 0.000232658 [0.95548904]\n",
      "20 7.79813e-07 [0.95739079]\n",
      "21 7.20222e-08 [0.95753706]\n",
      "22 0.0498347 [0.95700514]\n",
      "23 1.14242e-07 [0.95942551]\n",
      "24 0.138292 [0.95921272]\n",
      "25 1.40495e-05 [0.95877385]\n",
      "26 0.00228871 [0.95892012]\n",
      "27 0.0 [0.95906645]\n",
      "28 0.0538468 [0.95896006]\n",
      "29 0.0 [0.95653969]\n"
     ]
    }
   ],
   "source": [
    "epochs = 30\n",
    "batch_size = 256\n",
    "\n",
    "sess = tf.Session()\n",
    "\n",
    "sess.run(tf.global_variables_initializer())\n",
    "\n",
    "loss_buffer = list()\n",
    "\n",
    "for e in range(epochs):\n",
    "    \n",
    "    for X_batch, Y_batch in get_batches(X_train, y_train, batch_size):\n",
    "    \n",
    "        loss_value, _ = sess.run([cost, optimizer], feed_dict={\n",
    "            inputs: X_batch,\n",
    "            targets: Y_batch\n",
    "        })\n",
    "        \n",
    "        loss_buffer.append(loss_buffer)\n",
    "\n",
    "    acc_value = sess.run([accuracy], feed_dict={\n",
    "        inputs: X_valid,\n",
    "        targets: y_valid\n",
    "    })\n",
    "    \n",
    "    print(e, loss_value, acc_value)\n",
    "    "
   ]
  },
  {
   "cell_type": "code",
   "execution_count": 14,
   "metadata": {
    "collapsed": true
   },
   "outputs": [],
   "source": [
    "#plt.plot(loss_buffer)"
   ]
  },
  {
   "cell_type": "code",
   "execution_count": 15,
   "metadata": {},
   "outputs": [
    {
     "name": "stdout",
     "output_type": "stream",
     "text": [
      "[0.95668596]\n"
     ]
    }
   ],
   "source": [
    "acc_value = sess.run([accuracy], feed_dict={\n",
    "    inputs: X_test,\n",
    "    targets: y_test\n",
    "})\n",
    "\n",
    "print(acc_value)"
   ]
  },
  {
   "cell_type": "code",
   "execution_count": 29,
   "metadata": {
    "collapsed": true
   },
   "outputs": [],
   "source": [
    "def load_random_img():\n",
    "    random_symbol = np.random.choice(os.listdir(\"../data.rar/data/extracted_images\"))\n",
    "    print(random_symbol)\n",
    "    random_img = np.random.choice(os.listdir(\"../data.rar/data/extracted_images/\" + random_symbol))\n",
    "    img = Image.open(\"../data.rar/data/extracted_images/\" + random_symbol +  \"/\" + random_img)\n",
    "    #return img\n",
    "    array = np.array(img)\n",
    "    return array < 128"
   ]
  },
  {
   "cell_type": "code",
   "execution_count": 96,
   "metadata": {},
   "outputs": [],
   "source": [
    "def load_test_img():\n",
    "    img = Image.open(\"test_img.png\")\n",
    "    array = np.array(img)\n",
    "    return np.squeeze(array[:,:,1]) < 128\n",
    "\n",
    "#plt.imshow(load_test_img())"
   ]
  },
  {
   "cell_type": "code",
   "execution_count": 120,
   "metadata": {
    "scrolled": false
   },
   "outputs": [
    {
     "name": "stdout",
     "output_type": "stream",
     "text": [
      "['+', 'neq', '4', '}', 'cos']\n",
      "+\n"
     ]
    },
    {
     "data": {
      "text/plain": [
       "<matplotlib.image.AxesImage at 0x128ce9e8>"
      ]
     },
     "execution_count": 120,
     "metadata": {},
     "output_type": "execute_result"
    },
    {
     "data": {
      "image/png": "[encoded data removed]",
      "text/plain": [
       "<matplotlib.figure.Figure at 0x128830b8>"
      ]
     },
     "metadata": {},
     "output_type": "display_data"
    }
   ],
   "source": [
    "rand_img = load_test_img()\n",
    "\n",
    "output_value = sess.run(output, feed_dict={\n",
    "    inputs: [rand_img]\n",
    "})\n",
    "\n",
    "top_outputs = []\n",
    "for ind in np.argsort(output_value)[0][::-1][:5]:\n",
    "    top_outputs.append(int2sym[ind])\n",
    "\n",
    "#print(np.argsort(output_value)[0][::-1][:5])\n",
    "#print(np.argmax(output_value))\n",
    "\n",
    "print(top_outputs)\n",
    "print(int2sym[np.argmax(output_value)])\n",
    "\n",
    "plt.imshow(rand_img)"
   ]
  },
  {
   "cell_type": "code",
   "execution_count": 18,
   "metadata": {},
   "outputs": [
    {
     "data": {
      "text/plain": [
       "'phi'"
      ]
     },
     "execution_count": 18,
     "metadata": {},
     "output_type": "execute_result"
    }
   ],
   "source": [
    "np.random.choice(os.listdir(\"../data.rar/data/extracted_images\"))"
   ]
  },
  {
   "cell_type": "code",
   "execution_count": 121,
   "metadata": {
    "collapsed": true
   },
   "outputs": [],
   "source": [
    "saver = tf.train.Saver()"
   ]
  },
  {
   "cell_type": "code",
   "execution_count": 127,
   "metadata": {
    "scrolled": true
   },
   "outputs": [
    {
     "data": {
      "text/plain": [
       "'./model/model.ckpt'"
      ]
     },
     "execution_count": 127,
     "metadata": {},
     "output_type": "execute_result"
    }
   ],
   "source": [
    "saver.save(sess, \"./model/model.ckpt\")"
   ]
  },
  {
   "cell_type": "code",
   "execution_count": null,
   "metadata": {
    "collapsed": true
   },
   "outputs": [],
   "source": []
  }
 ],
 "metadata": {
  "kernelspec": {
   "display_name": "Python 3",
   "language": "python",
   "name": "python3"
  },
  "language_info": {
   "codemirror_mode": {
    "name": "ipython",
    "version": 3
   },
   "file_extension": ".py",
   "mimetype": "text/x-python",
   "name": "python",
   "nbconvert_exporter": "python",
   "pygments_lexer": "ipython3",
   "version": "3.5.5"
  }
 },
 "nbformat": 4,
 "nbformat_minor": 2
}
