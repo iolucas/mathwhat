{
 "cells": [
  {
   "cell_type": "code",
   "execution_count": 2,
   "metadata": {},
   "outputs": [],
   "source": [
    "import pickle"
   ]
  },
  {
   "cell_type": "code",
   "execution_count": 3,
   "metadata": {},
   "outputs": [],
   "source": [
    "dataset = pickle.load( open( \"save.p\", \"rb\" ) )"
   ]
  },
  {
   "cell_type": "code",
   "execution_count": 4,
   "metadata": {},
   "outputs": [],
   "source": [
    "import matplotlib.pyplot as plt\n",
    "%matplotlib inline\n",
    "\n",
    "from PIL import Image, ImageDraw\n",
    "\n",
    "def draw_image(strokes_list):\n",
    "    im = Image.new(mode=\"1\", size=(500,500))\n",
    "\n",
    "    draw = ImageDraw.Draw(im)\n",
    "    #draw.moveTo(strokes[0][:2], fill=128)\n",
    "    #print(strokes)\n",
    "    #draw.line((0, 0) + im.size, fill=128)\n",
    "    #draw.line((0, im.size[1], im.size[0], 0), fill=128)\n",
    "    for strokes in strokes_list:\n",
    "        draw.line(strokes, fill=128, width=5)\n",
    "    \n",
    "    \n",
    "    #for stroke in strokes[0:]:\n",
    "        #print(stroke.tolist())\n",
    "        #draw.line(stroke, fill=128, width=10)\n",
    "\n",
    "    plt.imshow(im)"
   ]
  },
  {
   "cell_type": "code",
   "execution_count": 5,
   "metadata": {},
   "outputs": [
    {
     "name": "stdout",
     "output_type": "stream",
     "text": [
      "347\n",
      "91\n",
      "116\n",
      "\n"
     ]
    },
    {
     "ename": "NameError",
     "evalue": "name 'dominant' is not defined",
     "output_type": "error",
     "traceback": [
      "\u001b[1;31m---------------------------------------------------------------------------\u001b[0m",
      "\u001b[1;31mNameError\u001b[0m                                 Traceback (most recent call last)",
      "\u001b[1;32m<ipython-input-5-5c2f7fdd9200>\u001b[0m in \u001b[0;36m<module>\u001b[1;34m()\u001b[0m\n\u001b[0;32m      1\u001b[0m \u001b[0mlist\u001b[0m\u001b[1;33m(\u001b[0m\u001b[0mmap\u001b[0m\u001b[1;33m(\u001b[0m\u001b[1;32mlambda\u001b[0m \u001b[0ma\u001b[0m\u001b[1;33m:\u001b[0m \u001b[0mprint\u001b[0m\u001b[1;33m(\u001b[0m\u001b[0mlen\u001b[0m\u001b[1;33m(\u001b[0m\u001b[0ma\u001b[0m\u001b[1;33m)\u001b[0m\u001b[1;33m)\u001b[0m\u001b[1;33m,\u001b[0m \u001b[0mdataset\u001b[0m\u001b[1;33m[\u001b[0m\u001b[1;36m1\u001b[0m\u001b[1;33m]\u001b[0m\u001b[1;33m)\u001b[0m\u001b[1;33m)\u001b[0m\u001b[1;33m\u001b[0m\u001b[0m\n\u001b[0;32m      2\u001b[0m \u001b[0mprint\u001b[0m\u001b[1;33m(\u001b[0m\u001b[1;34m\"\"\u001b[0m\u001b[1;33m)\u001b[0m\u001b[1;33m\u001b[0m\u001b[0m\n\u001b[1;32m----> 3\u001b[1;33m \u001b[0mreduced\u001b[0m \u001b[1;33m=\u001b[0m \u001b[0mlist\u001b[0m\u001b[1;33m(\u001b[0m\u001b[0mmap\u001b[0m\u001b[1;33m(\u001b[0m\u001b[1;32mlambda\u001b[0m \u001b[0ma\u001b[0m\u001b[1;33m:\u001b[0m \u001b[0mdominant\u001b[0m\u001b[1;33m(\u001b[0m\u001b[0malpha\u001b[0m\u001b[1;33m,\u001b[0m\u001b[0ma\u001b[0m\u001b[1;33m)\u001b[0m\u001b[1;33m,\u001b[0m \u001b[0mdataset\u001b[0m\u001b[1;33m[\u001b[0m\u001b[1;36m1\u001b[0m\u001b[1;33m]\u001b[0m\u001b[1;33m)\u001b[0m\u001b[1;33m)\u001b[0m\u001b[1;33m\u001b[0m\u001b[0m\n\u001b[0m\u001b[0;32m      4\u001b[0m \u001b[0mlist\u001b[0m\u001b[1;33m(\u001b[0m\u001b[0mmap\u001b[0m\u001b[1;33m(\u001b[0m\u001b[1;32mlambda\u001b[0m \u001b[0ma\u001b[0m\u001b[1;33m:\u001b[0m \u001b[0mprint\u001b[0m\u001b[1;33m(\u001b[0m\u001b[0mlen\u001b[0m\u001b[1;33m(\u001b[0m\u001b[0ma\u001b[0m\u001b[1;33m)\u001b[0m\u001b[1;33m)\u001b[0m\u001b[1;33m,\u001b[0m \u001b[0mreduced\u001b[0m\u001b[1;33m)\u001b[0m\u001b[1;33m)\u001b[0m\u001b[1;33m\u001b[0m\u001b[0m\n",
      "\u001b[1;32m<ipython-input-5-5c2f7fdd9200>\u001b[0m in \u001b[0;36m<lambda>\u001b[1;34m(a)\u001b[0m\n\u001b[0;32m      1\u001b[0m \u001b[0mlist\u001b[0m\u001b[1;33m(\u001b[0m\u001b[0mmap\u001b[0m\u001b[1;33m(\u001b[0m\u001b[1;32mlambda\u001b[0m \u001b[0ma\u001b[0m\u001b[1;33m:\u001b[0m \u001b[0mprint\u001b[0m\u001b[1;33m(\u001b[0m\u001b[0mlen\u001b[0m\u001b[1;33m(\u001b[0m\u001b[0ma\u001b[0m\u001b[1;33m)\u001b[0m\u001b[1;33m)\u001b[0m\u001b[1;33m,\u001b[0m \u001b[0mdataset\u001b[0m\u001b[1;33m[\u001b[0m\u001b[1;36m1\u001b[0m\u001b[1;33m]\u001b[0m\u001b[1;33m)\u001b[0m\u001b[1;33m)\u001b[0m\u001b[1;33m\u001b[0m\u001b[0m\n\u001b[0;32m      2\u001b[0m \u001b[0mprint\u001b[0m\u001b[1;33m(\u001b[0m\u001b[1;34m\"\"\u001b[0m\u001b[1;33m)\u001b[0m\u001b[1;33m\u001b[0m\u001b[0m\n\u001b[1;32m----> 3\u001b[1;33m \u001b[0mreduced\u001b[0m \u001b[1;33m=\u001b[0m \u001b[0mlist\u001b[0m\u001b[1;33m(\u001b[0m\u001b[0mmap\u001b[0m\u001b[1;33m(\u001b[0m\u001b[1;32mlambda\u001b[0m \u001b[0ma\u001b[0m\u001b[1;33m:\u001b[0m \u001b[0mdominant\u001b[0m\u001b[1;33m(\u001b[0m\u001b[0malpha\u001b[0m\u001b[1;33m,\u001b[0m\u001b[0ma\u001b[0m\u001b[1;33m)\u001b[0m\u001b[1;33m,\u001b[0m \u001b[0mdataset\u001b[0m\u001b[1;33m[\u001b[0m\u001b[1;36m1\u001b[0m\u001b[1;33m]\u001b[0m\u001b[1;33m)\u001b[0m\u001b[1;33m)\u001b[0m\u001b[1;33m\u001b[0m\u001b[0m\n\u001b[0m\u001b[0;32m      4\u001b[0m \u001b[0mlist\u001b[0m\u001b[1;33m(\u001b[0m\u001b[0mmap\u001b[0m\u001b[1;33m(\u001b[0m\u001b[1;32mlambda\u001b[0m \u001b[0ma\u001b[0m\u001b[1;33m:\u001b[0m \u001b[0mprint\u001b[0m\u001b[1;33m(\u001b[0m\u001b[0mlen\u001b[0m\u001b[1;33m(\u001b[0m\u001b[0ma\u001b[0m\u001b[1;33m)\u001b[0m\u001b[1;33m)\u001b[0m\u001b[1;33m,\u001b[0m \u001b[0mreduced\u001b[0m\u001b[1;33m)\u001b[0m\u001b[1;33m)\u001b[0m\u001b[1;33m\u001b[0m\u001b[0m\n",
      "\u001b[1;31mNameError\u001b[0m: name 'dominant' is not defined"
     ]
    }
   ],
   "source": [
    "list(map(lambda a: print(len(a)), dataset[1]))\n",
    "print(\"\")\n",
    "reduced = list(map(lambda a: dominant(alpha,a), dataset[1]))\n",
    "list(map(lambda a: print(len(a)), reduced))"
   ]
  },
  {
   "cell_type": "code",
   "execution_count": null,
   "metadata": {},
   "outputs": [],
   "source": [
    "list(map(smooth, dataset[1]))"
   ]
  },
  {
   "cell_type": "code",
   "execution_count": null,
   "metadata": {},
   "outputs": [],
   "source": [
    "alpha = 2*math.pi*15/360\n",
    "print(alpha)\n",
    "\n",
    "draw_image(dataset[1])\n",
    "plt.show()\n",
    "#draw_image(list(map(lambda a: dominant(alpha,a), dataset[1])))\n",
    "draw_image(list(map(smooth, dataset[1])))\n",
    "plt.show()"
   ]
  },
  {
   "cell_type": "code",
   "execution_count": 6,
   "metadata": {},
   "outputs": [
    {
     "data": {
      "image/png": "[encoded data removed]",
      "text/plain": [
       "<Figure size 432x288 with 1 Axes>"
      ]
     },
     "metadata": {},
     "output_type": "display_data"
    }
   ],
   "source": [
    "draw_image(dataset[0])"
   ]
  },
  {
   "cell_type": "code",
   "execution_count": 7,
   "metadata": {},
   "outputs": [
    {
     "data": {
      "text/plain": [
       "'sanitize = (map (dominant alpha\\n                .unduplicate\\n                .redistribute 10\\n                .aspectrefit (Point (0,0), Point (1,1))\\n                .smooth\\n                .unduplicate)\\n                ).limit 10'"
      ]
     },
     "execution_count": 7,
     "metadata": {},
     "output_type": "execute_result"
    }
   ],
   "source": [
    "\"\"\"sanitize = (map (dominant alpha\n",
    "                .unduplicate\n",
    "                .redistribute 10\n",
    "                .aspectrefit (Point (0,0), Point (1,1))\n",
    "                .smooth\n",
    "                .unduplicate)\n",
    "                ).limit 10\"\"\"\n",
    "\n",
    "#Take only the first ten stroke lines"
   ]
  },
  {
   "cell_type": "raw",
   "metadata": {},
   "source": [
    "dominant :: Double -> Stroke -> Stroke\n",
    "dominant alpha s@(x:y:z:ps) = x:(dominant' alpha s) where\n",
    "  dominant' alpha (x:y:z:ps) | angle x y z < alpha = dominant' alpha (x:z:ps)\n",
    "                             | otherwise = y:(dominant' alpha (y:z:ps))\n",
    "  dominant' _ (x:ps) = ps\n",
    "  \n",
    "  \n",
    "  -- angle x y z = acos (min 1 (max (-1) (1/((norm v)*(norm w)) `scalar` v `dot` w))) where\n",
    "  angle x y z = acos $ fixdomain $ (v `dot` w)/((norm v)*(norm w)) where\n",
    "    fixdomain = (min 1).(max (-1))\n",
    "    v = y `sub` x\n",
    "    w = z `sub` y\n",
    "    \n",
    "    \n",
    "dominant _ ps = ps"
   ]
  },
  {
   "cell_type": "code",
   "execution_count": 8,
   "metadata": {},
   "outputs": [],
   "source": [
    "import numpy as np\n",
    "from numpy.linalg import norm\n",
    "from math import acos\n",
    "\n",
    "def angle(x, y, z):\n",
    "    x = np.array(x)\n",
    "    y = np.array(y)\n",
    "    z = np.array(z)\n",
    "    \n",
    "    w = z - y\n",
    "    v = y - x\n",
    "    #fix_domain()\n",
    "    return acos(min(max(v.dot(w)/(norm(v) * norm(w)), -1),1))\n",
    "\n",
    "#dominant alpha s@(x:y:z:ps) = x:(dominant' alpha s) where\n",
    "def dominant(alpha, strokes):\n",
    "    \n",
    "    if len(strokes) < 3:\n",
    "        return strokes\n",
    "    \n",
    "    return [strokes[0]] + dominant_(alpha, strokes)\n",
    "\n",
    "#dominant' alpha (x:y:z:ps) | angle x y z < alpha = dominant' alpha (x:z:ps)\n",
    "#                           | otherwise = y:(dominant' alpha (y:z:ps))\n",
    "#dominant' _ (x:ps) = ps\n",
    "def dominant_(alpha, strokes):\n",
    "    if len(strokes) < 3:\n",
    "        return strokes[1:]\n",
    "    \n",
    "    x = strokes[0]\n",
    "    y = strokes[1]\n",
    "    z = strokes[2]\n",
    "    ps = strokes[3:]\n",
    "    \n",
    "    #If the angle between the links are too small, the middle point is kind of irrelevant, we may remove it\n",
    "    if angle(x,y,z) < alpha:\n",
    "        return dominant_(alpha, [x] + [z] + ps)\n",
    "    \n",
    "    return [y] + dominant_(alpha, [y] + [z] + ps)"
   ]
  },
  {
   "cell_type": "code",
   "execution_count": 9,
   "metadata": {},
   "outputs": [
    {
     "data": {
      "text/plain": [
       "[[200, 200], [200, 400], [400, 800]]"
      ]
     },
     "execution_count": 9,
     "metadata": {},
     "output_type": "execute_result"
    }
   ],
   "source": [
    "#-- remove successive duplicate (similar) points\n",
    "#unduplicate :: Stroke -> Stroke\n",
    "#unduplicate [] = []\n",
    "#unduplicate [p] = [p]\n",
    "#unduplicate (p:q:ps) | p ~~ q    = unduplicate (p:ps)\n",
    "#                     | otherwise = p:(unduplicate (q:ps))\n",
    "\n",
    "def unduplicate(strokes):\n",
    "    if len(strokes) < 2:\n",
    "        return strokes\n",
    "    \n",
    "    if strokes[0] == strokes[1]:\n",
    "        return unduplicate(strokes[1:])\n",
    "    else:\n",
    "        return strokes[0:1] + unduplicate(strokes[1:])\n",
    "    \n",
    "test_strokes = [\n",
    "    [200,200],\n",
    "    [200,400],\n",
    "    [400,800]\n",
    "]\n",
    "\n",
    "unduplicate(test_strokes)"
   ]
  },
  {
   "cell_type": "code",
   "execution_count": 10,
   "metadata": {},
   "outputs": [
    {
     "data": {
      "image/png": "[encoded data removed]",
      "text/plain": [
       "<Figure size 432x288 with 1 Axes>"
      ]
     },
     "metadata": {},
     "output_type": "display_data"
    },
    {
     "data": {
      "image/png": "[encoded data removed]",
      "text/plain": [
       "<Figure size 432x288 with 1 Axes>"
      ]
     },
     "metadata": {},
     "output_type": "display_data"
    }
   ],
   "source": [
    "#-- smooth\n",
    "#smooth :: Stroke -> Stroke\n",
    "#smooth s@(x:y:z:ps) = x:(smooth' s) where\n",
    "#  smooth' (x:y:z:ps) = ((1/3) `scalar` (x `add` y `add` z)):(smooth' (y:z:ps))\n",
    "#  smooth' (x:ps) = ps\n",
    "#smooth ps = ps\n",
    "\n",
    "def smooth(strokes):\n",
    "    return [strokes[0]] + smooth_(strokes)\n",
    "\n",
    "def smooth_(strokes):\n",
    "    if len(strokes) < 3:\n",
    "        return strokes[1:]\n",
    "    \n",
    "    x = np.array(strokes[0])\n",
    "    y = np.array(strokes[1])\n",
    "    z = np.array(strokes[2])\n",
    "    \n",
    "    w = (x+y+z)/3\n",
    "    \n",
    "    return [tuple(w)] + smooth_(strokes[1:])\n",
    "\n",
    "test_strokes = [\n",
    "    (200,200),\n",
    "    (200,400),\n",
    "    (400,600),\n",
    "]\n",
    "\n",
    "draw_image([test_strokes])\n",
    "plt.show()\n",
    "draw_image([smooth(test_strokes)])\n",
    "plt.show()"
   ]
  },
  {
   "cell_type": "code",
   "execution_count": 11,
   "metadata": {},
   "outputs": [
    {
     "ename": "NameError",
     "evalue": "name 'slength' is not defined",
     "output_type": "error",
     "traceback": [
      "\u001b[1;31m---------------------------------------------------------------------------\u001b[0m",
      "\u001b[1;31mNameError\u001b[0m                                 Traceback (most recent call last)",
      "\u001b[1;32m<ipython-input-11-533768a7d83c>\u001b[0m in \u001b[0;36m<module>\u001b[1;34m()\u001b[0m\n\u001b[0;32m     62\u001b[0m     \u001b[1;32mreturn\u001b[0m \u001b[1;33m[\u001b[0m\u001b[0mstroke\u001b[0m\u001b[1;33m[\u001b[0m\u001b[1;36m0\u001b[0m\u001b[1;33m]\u001b[0m\u001b[1;33m]\u001b[0m \u001b[1;33m+\u001b[0m \u001b[0mredist\u001b[0m\u001b[1;33m(\u001b[0m\u001b[0mdist_value\u001b[0m\u001b[1;33m,\u001b[0m \u001b[0mstroke\u001b[0m\u001b[1;33m)\u001b[0m\u001b[1;33m\u001b[0m\u001b[0m\n\u001b[0;32m     63\u001b[0m \u001b[1;33m\u001b[0m\u001b[0m\n\u001b[1;32m---> 64\u001b[1;33m \u001b[0mredistribute\u001b[0m\u001b[1;33m(\u001b[0m\u001b[1;36m3\u001b[0m\u001b[1;33m,\u001b[0m \u001b[0mtest_strokes\u001b[0m\u001b[1;33m)\u001b[0m\u001b[1;33m\u001b[0m\u001b[0m\n\u001b[0m",
      "\u001b[1;32m<ipython-input-11-533768a7d83c>\u001b[0m in \u001b[0;36mredistribute\u001b[1;34m(num, stroke)\u001b[0m\n\u001b[0;32m     18\u001b[0m         \u001b[1;32mreturn\u001b[0m \u001b[1;33m[\u001b[0m\u001b[0mstroke\u001b[0m\u001b[1;33m[\u001b[0m\u001b[1;36m0\u001b[0m\u001b[1;33m]\u001b[0m\u001b[1;33m]\u001b[0m\u001b[1;33m\u001b[0m\u001b[0m\n\u001b[0;32m     19\u001b[0m \u001b[1;33m\u001b[0m\u001b[0m\n\u001b[1;32m---> 20\u001b[1;33m     \u001b[0mdist_value\u001b[0m \u001b[1;33m=\u001b[0m \u001b[0mslength\u001b[0m\u001b[1;33m(\u001b[0m\u001b[0mstroke\u001b[0m\u001b[1;33m)\u001b[0m \u001b[1;33m/\u001b[0m \u001b[1;33m(\u001b[0m\u001b[0mnum\u001b[0m \u001b[1;33m-\u001b[0m \u001b[1;36m1\u001b[0m\u001b[1;33m)\u001b[0m\u001b[1;33m\u001b[0m\u001b[0m\n\u001b[0m\u001b[0;32m     21\u001b[0m \u001b[1;33m\u001b[0m\u001b[0m\n\u001b[0;32m     22\u001b[0m     \u001b[1;32mreturn\u001b[0m \u001b[0mredistribute_\u001b[0m\u001b[1;33m(\u001b[0m\u001b[0mdist_value\u001b[0m\u001b[1;33m,\u001b[0m \u001b[0mstroke\u001b[0m\u001b[1;33m)\u001b[0m\u001b[1;33m\u001b[0m\u001b[0m\n",
      "\u001b[1;31mNameError\u001b[0m: name 'slength' is not defined"
     ]
    }
   ],
   "source": [
    "#-- redistribute to equidistant series by number of points\n",
    "#-- this might go wrong due to numeric inaccuracy (esp. for large n)\n",
    "#-- but together with unduplicate it should work well enough\n",
    "#redistribute :: Int -> Stroke -> Stroke\n",
    "#-- degenerate cases\n",
    "#redistribute _ [] = []\n",
    "#redistribute _ [p] = [p]\n",
    "#-- normal cases\n",
    "#redistribute 0 _ = []\n",
    "#redistribute 1 s = [head s]\n",
    "#redistribute num stroke@(p:q:ps) = redistribute' dist stroke where\n",
    "#  dist = (slength stroke) / ((fromIntegral num) - 1)\n",
    "\n",
    "def redistribute(num, stroke):\n",
    "    if num == 0:\n",
    "        return []\n",
    "    if num == 1:\n",
    "        return [stroke[0]]\n",
    "    \n",
    "    dist_value = slength(stroke) / (num - 1)\n",
    "    \n",
    "    return redistribute_(dist_value, stroke)\n",
    "\n",
    "#-- redistribute to equidistant series by distance\n",
    "#redistribute' :: Double -> Stroke -> Stroke\n",
    "#redistribute' dist _ | dist <= 0 = error \"No Sir! No redistribution with non-positive distance!\"\n",
    "#redistribute' dist s@(p:q:ps) = p:(redist dist s) where -- first point always part of new stroke\n",
    "\n",
    "#  redist :: Double -> Stroke -> Stroke\n",
    "#  redist left (p:q:ps) | d < left = redist (left - d) (q:ps)\n",
    "#                       | otherwise = ins:(redist dist (ins:q:ps))\n",
    "#                         where\n",
    "#                           dir = q `sub` p\n",
    "#                           d = norm dir\n",
    "#                           ins = p `add` ((left/d) `scalar` dir)\n",
    "#  redist _ ps = ps -- done when only one left\n",
    "#redistribute' _ ps = ps -- empty or single point strokes stay unmodified\n",
    "def redistribute_(dist_value, stroke):\n",
    "    \n",
    "    def redist(left, stroke):\n",
    "        if len(stroke) < 2:\n",
    "            return stroke\n",
    "        \n",
    "        p = np.array(stroke[0])\n",
    "        q = np.array(stroke[1])\n",
    "\n",
    "        dir_ = q - p\n",
    "        d = norm(dir_)\n",
    "\n",
    "\n",
    "        if d < left:\n",
    "            return redist((left-d), stroke[1:])\n",
    "        else:\n",
    "            ins = p + ((left/d) * dir_)\n",
    "            return [tuple(ins)] + redist(dist_value, [ins] + stroke[1:])\n",
    "        \n",
    "    assert dist_value > 0\n",
    "    \n",
    "    if len(stroke) < 2:\n",
    "        return stroke\n",
    "    \n",
    "    return [stroke[0]] + redist(dist_value, stroke)\n",
    "        \n",
    "redistribute(3, test_strokes)"
   ]
  },
  {
   "cell_type": "code",
   "execution_count": 12,
   "metadata": {},
   "outputs": [
    {
     "data": {
      "image/png": "[encoded data removed]",
      "text/plain": [
       "<Figure size 432x288 with 1 Axes>"
      ]
     },
     "metadata": {},
     "output_type": "display_data"
    },
    {
     "ename": "NameError",
     "evalue": "name 'slength' is not defined",
     "output_type": "error",
     "traceback": [
      "\u001b[1;31m---------------------------------------------------------------------------\u001b[0m",
      "\u001b[1;31mNameError\u001b[0m                                 Traceback (most recent call last)",
      "\u001b[1;32m<ipython-input-12-f8df4cb6385c>\u001b[0m in \u001b[0;36m<module>\u001b[1;34m()\u001b[0m\n\u001b[0;32m      1\u001b[0m \u001b[0mdraw_image\u001b[0m\u001b[1;33m(\u001b[0m\u001b[0mdataset\u001b[0m\u001b[1;33m[\u001b[0m\u001b[1;36m100\u001b[0m\u001b[1;33m]\u001b[0m\u001b[1;33m)\u001b[0m\u001b[1;33m\u001b[0m\u001b[0m\n\u001b[0;32m      2\u001b[0m \u001b[0mplt\u001b[0m\u001b[1;33m.\u001b[0m\u001b[0mshow\u001b[0m\u001b[1;33m(\u001b[0m\u001b[1;33m)\u001b[0m\u001b[1;33m\u001b[0m\u001b[0m\n\u001b[1;32m----> 3\u001b[1;33m \u001b[0mdraw_image\u001b[0m\u001b[1;33m(\u001b[0m\u001b[0mlist\u001b[0m\u001b[1;33m(\u001b[0m\u001b[0mmap\u001b[0m\u001b[1;33m(\u001b[0m\u001b[1;32mlambda\u001b[0m \u001b[0ma\u001b[0m\u001b[1;33m:\u001b[0m \u001b[0mredistribute\u001b[0m\u001b[1;33m(\u001b[0m\u001b[1;36m10\u001b[0m\u001b[1;33m,\u001b[0m\u001b[0ma\u001b[0m\u001b[1;33m)\u001b[0m\u001b[1;33m,\u001b[0m \u001b[0mdataset\u001b[0m\u001b[1;33m[\u001b[0m\u001b[1;36m100\u001b[0m\u001b[1;33m]\u001b[0m\u001b[1;33m)\u001b[0m\u001b[1;33m)\u001b[0m\u001b[1;33m)\u001b[0m\u001b[1;33m\u001b[0m\u001b[0m\n\u001b[0m\u001b[0;32m      4\u001b[0m \u001b[0mplt\u001b[0m\u001b[1;33m.\u001b[0m\u001b[0mshow\u001b[0m\u001b[1;33m(\u001b[0m\u001b[1;33m)\u001b[0m\u001b[1;33m\u001b[0m\u001b[0m\n",
      "\u001b[1;32m<ipython-input-12-f8df4cb6385c>\u001b[0m in \u001b[0;36m<lambda>\u001b[1;34m(a)\u001b[0m\n\u001b[0;32m      1\u001b[0m \u001b[0mdraw_image\u001b[0m\u001b[1;33m(\u001b[0m\u001b[0mdataset\u001b[0m\u001b[1;33m[\u001b[0m\u001b[1;36m100\u001b[0m\u001b[1;33m]\u001b[0m\u001b[1;33m)\u001b[0m\u001b[1;33m\u001b[0m\u001b[0m\n\u001b[0;32m      2\u001b[0m \u001b[0mplt\u001b[0m\u001b[1;33m.\u001b[0m\u001b[0mshow\u001b[0m\u001b[1;33m(\u001b[0m\u001b[1;33m)\u001b[0m\u001b[1;33m\u001b[0m\u001b[0m\n\u001b[1;32m----> 3\u001b[1;33m \u001b[0mdraw_image\u001b[0m\u001b[1;33m(\u001b[0m\u001b[0mlist\u001b[0m\u001b[1;33m(\u001b[0m\u001b[0mmap\u001b[0m\u001b[1;33m(\u001b[0m\u001b[1;32mlambda\u001b[0m \u001b[0ma\u001b[0m\u001b[1;33m:\u001b[0m \u001b[0mredistribute\u001b[0m\u001b[1;33m(\u001b[0m\u001b[1;36m10\u001b[0m\u001b[1;33m,\u001b[0m\u001b[0ma\u001b[0m\u001b[1;33m)\u001b[0m\u001b[1;33m,\u001b[0m \u001b[0mdataset\u001b[0m\u001b[1;33m[\u001b[0m\u001b[1;36m100\u001b[0m\u001b[1;33m]\u001b[0m\u001b[1;33m)\u001b[0m\u001b[1;33m)\u001b[0m\u001b[1;33m)\u001b[0m\u001b[1;33m\u001b[0m\u001b[0m\n\u001b[0m\u001b[0;32m      4\u001b[0m \u001b[0mplt\u001b[0m\u001b[1;33m.\u001b[0m\u001b[0mshow\u001b[0m\u001b[1;33m(\u001b[0m\u001b[1;33m)\u001b[0m\u001b[1;33m\u001b[0m\u001b[0m\n",
      "\u001b[1;32m<ipython-input-11-533768a7d83c>\u001b[0m in \u001b[0;36mredistribute\u001b[1;34m(num, stroke)\u001b[0m\n\u001b[0;32m     18\u001b[0m         \u001b[1;32mreturn\u001b[0m \u001b[1;33m[\u001b[0m\u001b[0mstroke\u001b[0m\u001b[1;33m[\u001b[0m\u001b[1;36m0\u001b[0m\u001b[1;33m]\u001b[0m\u001b[1;33m]\u001b[0m\u001b[1;33m\u001b[0m\u001b[0m\n\u001b[0;32m     19\u001b[0m \u001b[1;33m\u001b[0m\u001b[0m\n\u001b[1;32m---> 20\u001b[1;33m     \u001b[0mdist_value\u001b[0m \u001b[1;33m=\u001b[0m \u001b[0mslength\u001b[0m\u001b[1;33m(\u001b[0m\u001b[0mstroke\u001b[0m\u001b[1;33m)\u001b[0m \u001b[1;33m/\u001b[0m \u001b[1;33m(\u001b[0m\u001b[0mnum\u001b[0m \u001b[1;33m-\u001b[0m \u001b[1;36m1\u001b[0m\u001b[1;33m)\u001b[0m\u001b[1;33m\u001b[0m\u001b[0m\n\u001b[0m\u001b[0;32m     21\u001b[0m \u001b[1;33m\u001b[0m\u001b[0m\n\u001b[0;32m     22\u001b[0m     \u001b[1;32mreturn\u001b[0m \u001b[0mredistribute_\u001b[0m\u001b[1;33m(\u001b[0m\u001b[0mdist_value\u001b[0m\u001b[1;33m,\u001b[0m \u001b[0mstroke\u001b[0m\u001b[1;33m)\u001b[0m\u001b[1;33m\u001b[0m\u001b[0m\n",
      "\u001b[1;31mNameError\u001b[0m: name 'slength' is not defined"
     ]
    }
   ],
   "source": [
    "draw_image(dataset[100])\n",
    "plt.show()\n",
    "draw_image(list(map(lambda a: redistribute(10,a), dataset[100])))\n",
    "plt.show()"
   ]
  },
  {
   "cell_type": "code",
   "execution_count": 13,
   "metadata": {},
   "outputs": [
    {
     "data": {
      "text/plain": [
       "482.842712474619"
      ]
     },
     "execution_count": 13,
     "metadata": {},
     "output_type": "execute_result"
    }
   ],
   "source": [
    "#slength :: Stroke -> Double\n",
    "#slength (p:q:ps) = p `dist` q + (slength (q:ps))\n",
    "#slength _ = 0\n",
    "\n",
    "def slength(strokes):\n",
    "    if len(strokes) < 2:\n",
    "        return 0\n",
    "    \n",
    "    return dist(strokes[0], strokes[1]) + slength(strokes[1:])\n",
    "\n",
    "def dist(v1, v2):\n",
    "    v1 = np.array(v1)\n",
    "    v2 = np.array(v2)\n",
    "    return norm(v1-v2)\n",
    "\n",
    "slength(test_strokes)"
   ]
  },
  {
   "cell_type": "code",
   "execution_count": 14,
   "metadata": {},
   "outputs": [
    {
     "ename": "NameError",
     "evalue": "name 'math' is not defined",
     "output_type": "error",
     "traceback": [
      "\u001b[1;31m---------------------------------------------------------------------------\u001b[0m",
      "\u001b[1;31mNameError\u001b[0m                                 Traceback (most recent call last)",
      "\u001b[1;32m<ipython-input-14-47c0a667534e>\u001b[0m in \u001b[0;36m<module>\u001b[1;34m()\u001b[0m\n\u001b[0;32m     12\u001b[0m     \u001b[1;32mreturn\u001b[0m \u001b[1;33m[\u001b[0m\u001b[1;33m(\u001b[0m\u001b[0mmin_x\u001b[0m\u001b[1;33m,\u001b[0m \u001b[0mmin_y\u001b[0m\u001b[1;33m)\u001b[0m\u001b[1;33m,\u001b[0m \u001b[1;33m(\u001b[0m\u001b[0mmax_x\u001b[0m\u001b[1;33m,\u001b[0m \u001b[0mmax_y\u001b[0m\u001b[1;33m)\u001b[0m\u001b[1;33m]\u001b[0m\u001b[1;33m\u001b[0m\u001b[0m\n\u001b[0;32m     13\u001b[0m \u001b[1;33m\u001b[0m\u001b[0m\n\u001b[1;32m---> 14\u001b[1;33m \u001b[0mbounding_box\u001b[0m\u001b[1;33m(\u001b[0m\u001b[0mdataset\u001b[0m\u001b[1;33m[\u001b[0m\u001b[1;36m100\u001b[0m\u001b[1;33m]\u001b[0m\u001b[1;33m[\u001b[0m\u001b[1;36m0\u001b[0m\u001b[1;33m]\u001b[0m\u001b[1;33m)\u001b[0m\u001b[1;33m\u001b[0m\u001b[0m\n\u001b[0m\u001b[0;32m     15\u001b[0m \u001b[1;33m\u001b[0m\u001b[0m\n",
      "\u001b[1;32m<ipython-input-14-47c0a667534e>\u001b[0m in \u001b[0;36mbounding_box\u001b[1;34m(stroke)\u001b[0m\n\u001b[0;32m      1\u001b[0m \u001b[1;32mdef\u001b[0m \u001b[0mbounding_box\u001b[0m\u001b[1;33m(\u001b[0m\u001b[0mstroke\u001b[0m\u001b[1;33m)\u001b[0m\u001b[1;33m:\u001b[0m\u001b[1;33m\u001b[0m\u001b[0m\n\u001b[1;32m----> 2\u001b[1;33m     \u001b[0mmin_x\u001b[0m \u001b[1;33m=\u001b[0m \u001b[0mmath\u001b[0m\u001b[1;33m.\u001b[0m\u001b[0minf\u001b[0m\u001b[1;33m\u001b[0m\u001b[0m\n\u001b[0m\u001b[0;32m      3\u001b[0m     \u001b[0mmin_y\u001b[0m \u001b[1;33m=\u001b[0m \u001b[0mmath\u001b[0m\u001b[1;33m.\u001b[0m\u001b[0minf\u001b[0m\u001b[1;33m\u001b[0m\u001b[0m\n\u001b[0;32m      4\u001b[0m     \u001b[0mmax_x\u001b[0m \u001b[1;33m=\u001b[0m \u001b[1;33m-\u001b[0m\u001b[0mmath\u001b[0m\u001b[1;33m.\u001b[0m\u001b[0minf\u001b[0m\u001b[1;33m\u001b[0m\u001b[0m\n\u001b[0;32m      5\u001b[0m     \u001b[0mmax_y\u001b[0m \u001b[1;33m=\u001b[0m \u001b[1;33m-\u001b[0m\u001b[0mmath\u001b[0m\u001b[1;33m.\u001b[0m\u001b[0minf\u001b[0m\u001b[1;33m\u001b[0m\u001b[0m\n",
      "\u001b[1;31mNameError\u001b[0m: name 'math' is not defined"
     ]
    }
   ],
   "source": [
    "def bounding_box(stroke):\n",
    "    min_x = math.inf\n",
    "    min_y = math.inf\n",
    "    max_x = -math.inf\n",
    "    max_y = -math.inf\n",
    "    for x, y in stroke:\n",
    "        min_x = min(min_x, x)\n",
    "        min_y = min(min_y, y)\n",
    "        max_x = max(max_x, x)\n",
    "        max_y = max(max_y, y)\n",
    "        \n",
    "    return [(min_x, min_y), (max_x, max_y)]\n",
    "\n",
    "bounding_box(dataset[100][0])\n",
    "    "
   ]
  },
  {
   "cell_type": "code",
   "execution_count": 15,
   "metadata": {},
   "outputs": [],
   "source": [
    "#aspectrefit :: Rect -> Stroke -> Stroke\n",
    "#aspectrefit r s = refit (aspectfit (boundingbox s) r) s\n",
    "\n",
    "def aspect_refit(r, s):\n",
    "    return refit(aspect_fit(bounding_box(s), r), s)"
   ]
  },
  {
   "cell_type": "code",
   "execution_count": 16,
   "metadata": {},
   "outputs": [
    {
     "ename": "SyntaxError",
     "evalue": "invalid syntax (<ipython-input-16-19d501005adb>, line 32)",
     "output_type": "error",
     "traceback": [
      "\u001b[1;36m  File \u001b[1;32m\"<ipython-input-16-19d501005adb>\"\u001b[1;36m, line \u001b[1;32m32\u001b[0m\n\u001b[1;33m    assert x1 < x2 && y1 < y2\u001b[0m\n\u001b[1;37m                    ^\u001b[0m\n\u001b[1;31mSyntaxError\u001b[0m\u001b[1;31m:\u001b[0m invalid syntax\n"
     ]
    }
   ],
   "source": [
    "#-- fit into rect (x1, y1, x2, y2)\n",
    "#refit :: Rect -> Stroke -> Stroke\n",
    "#refit (Point (x1, y1), Point (x2, y2)) _ | x1 > x2 || y1 > y2 = error \"Dude! Your rect doesn't make sense!\"\n",
    "#refit _ [] = [] \n",
    "#refit (Point (x1, y1), Point (x2, y2)) stroke = for stroke $ \\p -> (scale scaleX scaleY (p `sub` reset)) `add` trans\n",
    "#  where\n",
    "#    (Point (bbx1, bby1), Point (bbx2, bby2)) = boundingbox stroke\n",
    "#    reset = Point (bbx1, bby1)\n",
    "#    bbWidth = bbx2 - bbx1\n",
    "#    bbHeight = bby2 - bby1\n",
    "#    targetWidth = x2 - x1\n",
    "#    targetHeight = y2 - y1\n",
    "#    scaleX = case bbWidth of\n",
    "#      0 -> 1\n",
    "#      width -> 1/width * targetWidth\n",
    "#    scaleY = case bbHeight of\n",
    "#      0 -> 1\n",
    "#      height -> 1/height * targetHeight\n",
    "#    transX = case bbWidth of\n",
    "#      0 -> x1 + 1/2 * targetWidth\n",
    "#      width -> x1\n",
    "#    transY = case bbHeight of\n",
    "#      0 -> y1 + 1/2 * targetHeight\n",
    "#      height -> y1\n",
    "#    trans = Point (transX, transY)\n",
    "\n",
    "def refit(r, stroke):\n",
    "    if len(stroke) == 0:\n",
    "        return stroke\n",
    "    \n",
    "    (x1, y1), (x2, y2) = r\n",
    "    assert x1 < x2 && y1 < y2\n",
    "    \n",
    "    return "
   ]
  },
  {
   "cell_type": "code",
   "execution_count": 17,
   "metadata": {},
   "outputs": [],
   "source": [
    "#-- fit the first rect maximally and centered into the second rect keeping the aspect ratio\n",
    "#aspectfit :: Rect -> Rect -> Rect\n",
    "#aspectfit source@(a, b) target@(c, d) | a == b = ((1/2) `scalar` (c `add` d), (1/2) `scalar` (c `add` d))\n",
    "#                                      | otherwise = both reposition source where\n",
    "#  reset = fst source\n",
    "#  sourcewidth = width source\n",
    "#  sourceheight = height source\n",
    "#  targetwidth = width target\n",
    "#  targetheight = height target\n",
    "#  sourceratio = sourcewidth/sourceheight\n",
    "#  targetratio = targetwidth/targetheight\n",
    "#  -- bigger ratio <~> wider\n",
    "#  sourcewider = sourceratio > targetratio\n",
    "#  scalefactor | sourcewider = 1/sourcewidth*targetwidth -- scale to fit width of target and center\n",
    "#              | otherwise   = 1/sourceheight*targetheight\n",
    "#  offset      | sourcewider = Point (0, (targetheight - scalefactor*sourceheight)/2)\n",
    "#              | otherwise   = Point ((targetwidth - scalefactor*sourcewidth)/2, 0)\n",
    "#  reposition p = (scale scalefactor scalefactor (p `sub` reset)) `add` offset `add` (fst target)\n",
    "\n",
    "def both(f, l):\n",
    "    a,b = l\n",
    "    return (f(a), f(b))\n",
    "\n",
    "def aspect_fit(source, target):\n",
    "    a, b = np.array(source)\n",
    "    c, d = np.array(target)\n",
    "    \n",
    "    if np.array_equal(a,b):\n",
    "        return 0.5*(c+d), 0.5*(c+d)\n",
    "    else:\n",
    "        def reposition(p):\n",
    "            reset = source[0]\n",
    "            sourcewidth = source[1][0] - source[0][0]\n",
    "            sourceheight = source[1][1] - source[0][1]\n",
    "            targetwidth = target[1][0] - target[0][0]\n",
    "            targetheight = target[1][1] - target[0][1]\n",
    "            sourceratio = sourcewidth/sourceheight\n",
    "            targetratio = targetwidth/targetheight\n",
    "            \n",
    "            sourcewider = sourceratio > targetratio\n",
    "            \n",
    "            if sourcewider:\n",
    "                scalefactor = targetwidth/sourcewidth #scale to fit width of target and center\n",
    "                offset = (0, (targetheight - scalefactor*sourceheight)/2)\n",
    "            else:\n",
    "                scalefactor = targetheight/sourceheight\n",
    "                offset = ((targetwidth - scalefactor*sourcewidth)/2, 0)\n",
    "            \n",
    "            offset = np.array(offset)\n",
    "            \n",
    "            return scale_factor * (p-reset) + offset + target[0]\n",
    "        \n",
    "        \n",
    "        return both(reposition, source)\n",
    "        "
   ]
  },
  {
   "cell_type": "code",
   "execution_count": 18,
   "metadata": {},
   "outputs": [],
   "source": [
    "#vendomorphism :: ((Double, Double), (Double, Double)) -> Point -> Point\n",
    "#vendomorphism ((a11, a12), (a21, a22)) (Point (x, y)) = Point (a11*x + a12*y, a21*x + a22*y)\n",
    "#def vendomorphism(a, p):\n",
    "    #(a11, a12), (a21, a22) = a\n",
    "    #x, y = p\n",
    "    #return (a11*x + a12*y, a21*x + a22*y)\n",
    "\n",
    "#scale :: Double -> Double -> Point -> Point\n",
    "#scale x y = vendomorphism ((x, 0), (0, y))\n",
    "#def scale(x, y):\n",
    "    #return vendomorphism ((x, 0), (0, y))"
   ]
  },
  {
   "cell_type": "code",
   "execution_count": 19,
   "metadata": {},
   "outputs": [
    {
     "data": {
      "text/plain": [
       "[[200, 200], [200, 400], [400, 800]]"
      ]
     },
     "execution_count": 19,
     "metadata": {},
     "output_type": "execute_result"
    }
   ],
   "source": [
    "test_strokes = [\n",
    "    [200,200],\n",
    "    [200,400],\n",
    "    [400,800]\n",
    "]\n",
    "\n",
    "dominant(0.4, test_strokes)"
   ]
  },
  {
   "cell_type": "code",
   "execution_count": 20,
   "metadata": {},
   "outputs": [
    {
     "data": {
      "text/plain": [
       "0.46364760900080615"
      ]
     },
     "execution_count": 20,
     "metadata": {},
     "output_type": "execute_result"
    }
   ],
   "source": [
    "x = np.array([0,0])\n",
    "y = np.array([2,2])\n",
    "z = np.array([4,8])\n",
    "\n",
    "angle(x,y,z)"
   ]
  },
  {
   "cell_type": "code",
   "execution_count": 21,
   "metadata": {},
   "outputs": [
    {
     "ename": "NameError",
     "evalue": "name 'math' is not defined",
     "output_type": "error",
     "traceback": [
      "\u001b[1;31m---------------------------------------------------------------------------\u001b[0m",
      "\u001b[1;31mNameError\u001b[0m                                 Traceback (most recent call last)",
      "\u001b[1;32m<ipython-input-21-fe80b1a1f503>\u001b[0m in \u001b[0;36m<module>\u001b[1;34m()\u001b[0m\n\u001b[1;32m----> 1\u001b[1;33m \u001b[1;36m2\u001b[0m\u001b[1;33m*\u001b[0m\u001b[0mmath\u001b[0m\u001b[1;33m.\u001b[0m\u001b[0mpi\u001b[0m\u001b[1;33m*\u001b[0m\u001b[1;36m15\u001b[0m\u001b[1;33m/\u001b[0m\u001b[1;36m360\u001b[0m\u001b[1;33m\u001b[0m\u001b[0m\n\u001b[0m",
      "\u001b[1;31mNameError\u001b[0m: name 'math' is not defined"
     ]
    }
   ],
   "source": [
    "2*math.pi*15/360"
   ]
  },
  {
   "cell_type": "code",
   "execution_count": null,
   "metadata": {},
   "outputs": [],
   "source": []
  },
  {
   "cell_type": "code",
   "execution_count": null,
   "metadata": {},
   "outputs": [],
   "source": []
  },
  {
   "cell_type": "code",
   "execution_count": null,
   "metadata": {},
   "outputs": [],
   "source": []
  },
  {
   "cell_type": "code",
   "execution_count": null,
   "metadata": {},
   "outputs": [],
   "source": []
  },
  {
   "cell_type": "code",
   "execution_count": null,
   "metadata": {},
   "outputs": [],
   "source": []
  }
 ],
 "metadata": {
  "kernelspec": {
   "display_name": "Python 3",
   "language": "python",
   "name": "python3"
  },
  "language_info": {
   "codemirror_mode": {
    "name": "ipython",
    "version": 3
   },
   "file_extension": ".py",
   "mimetype": "text/x-python",
   "name": "python",
   "nbconvert_exporter": "python",
   "pygments_lexer": "ipython3",
   "version": "3.5.5"
  }
 },
 "nbformat": 4,
 "nbformat_minor": 2
}
